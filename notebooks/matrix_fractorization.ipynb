{
 "cells": [
  {
   "cell_type": "markdown",
   "metadata": {},
   "source": [
    "## __Matrix fractorization__"
   ]
  },
  {
   "cell_type": "markdown",
   "metadata": {},
   "source": [
    "Phương pháp này dựa trên việc phân rã ma trận thành các ma trận con nhỏ hơn. Tức là chúng ta sẽ phân rã ma trận utility thành tích của các ma trận users và ma trận items.\n",
    "\n",
    "\\begin{equation}\n",
    "\\mathbf{Y} \\approx \\left[ \\begin{matrix}\n",
    "\\mathbf{x}_1\\mathbf{w}_1 & \\mathbf{x}_1\\mathbf{w}_2 & \\dots & \\mathbf{x}_1 \\mathbf{w}_M\\\\\n",
    "\\mathbf{x}_2\\mathbf{w}_1 & \\mathbf{x}_2\\mathbf{w}_2 & \\dots & \\mathbf{x}_2 \\mathbf{w}_M\\\\\n",
    "\\dots & \\dots & \\ddots & \\dots \\\\\n",
    "\\mathbf{x}_N\\mathbf{w}_1 & \\mathbf{x}_N\\mathbf{w}_2 & \\dots & \\mathbf{x}_N \\mathbf{w}_M\\\\\n",
    "\\end{matrix} \\right]\n",
    " = \\left[ \\begin{matrix}\n",
    "\\mathbf{x}_1 \\\\\n",
    "\\mathbf{x}_2 \\\\\n",
    "\\dots \\\\\n",
    "\\mathbf{x}_N \\\\\n",
    "\\end{matrix} \\right]\n",
    "\\left[ \\begin{matrix}\n",
    "\\mathbf{w}_1 & \\mathbf{w}_2 & \\dots & \\mathbf{w}_M\n",
    "\\end{matrix} \\right] = \\mathbf{XW}\n",
    "\\end{equation}\n",
    "\n"
   ]
  },
  {
   "cell_type": "markdown",
   "metadata": {},
   "source": [
    "Khi đó mỗi dòng của ma trận $\\mathbf{X}$ tương ứng với một vector biểu diễn của một item và mỗi cột của ma trận $\\mathbf{W}$ tương ứng với một vector hệ số thể hiện mức độ yêu thích của user đối với các nhân tố ẩn của vector biểu diễn item. Số lượng các nhân tố này thường là rất nhỏ so với số lượng user và số lượng item nên dung lượng cần lưu trữ đối với 2 ma trận $\\mathbf{X}$ và $\\mathbf{W}$ thường rất nhỏ so với ma trận utility $\\mathbf{Y}$.\n",
    "\n",
    "Sau khi tìm được các ma trận items $\\mathbf{X}$ và users $\\mathbf{W}$, giá trị ước lượng rating của một user $j$ lên một item $i$ sẽ chính bằng tích: $\\hat{y_{ij}} = \\mathbf{x_i}^T\\mathbf{w_j}$. Như vậy giá trị dự báo được tính toán đơn giản hơn so với Neighbourhood-based Collaborative Filtering vì chỉ cần thực hiện phép nhân vector mà không cần phải cộng với trung bình cột để chuyển về giá trị gốc."
   ]
  },
  {
   "cell_type": "code",
   "execution_count": null,
   "metadata": {},
   "outputs": [],
   "source": []
  }
 ],
 "metadata": {
  "language_info": {
   "name": "python"
  }
 },
 "nbformat": 4,
 "nbformat_minor": 2
}
