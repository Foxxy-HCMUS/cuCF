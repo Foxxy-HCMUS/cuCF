{
 "cells": [
  {
   "cell_type": "code",
   "execution_count": 37,
   "metadata": {},
   "outputs": [],
   "source": [
    "from numba import cuda, jit\n",
    "import numpy as np\n",
    "import dataReader\n",
    "from similarityMatrix import *"
   ]
  },
  {
   "cell_type": "code",
   "execution_count": 38,
   "metadata": {},
   "outputs": [],
   "source": [
    "@cuda.jit\n",
    "def kernel_get_average_and_norm(R, cols, rows, avg, norm):\n",
    "    # row: n_users, col: n_items\n",
    "    bix = cuda.blockIdx.x\n",
    "    bdx = cuda.blockDim.x\n",
    "    tix = cuda.threadIdx.x\n",
    "\n",
    "    # thread ID -> item index\n",
    "    # 1 block -> 1 item\n",
    "    tid = bix * bdx + tix\n",
    "    if tid < cols:\n",
    "        countNonZero = 0\n",
    "        sum = 0\n",
    "        avgThread = 0\n",
    "        \n",
    "        # With per user: \n",
    "        for i in range(rows):\n",
    "            # Who is the user that rated this item\n",
    "\n",
    "            if R[i*cols + tid] > 0:\n",
    "                sum += R[i*cols + tid]\n",
    "                countNonZero += 1\n",
    "            \n",
    "        if countNonZero > 0:\n",
    "            avgThread = sum / countNonZero\n",
    "        else:\n",
    "            avgThread = 0\n",
    "        \n",
    "        if (tid < cols):\n",
    "            avg[tid] = avgThread\n",
    "\n",
    "        sum = 0\n",
    "        for i in range(rows):\n",
    "            if (R[i*cols + tid] > 0):\n",
    "                sum += (R[i*cols + tid] - avgThread)**2\n",
    "        \n",
    "        if (tid < cols):\n",
    "            norm[tid] = sum"
   ]
  },
  {
   "cell_type": "code",
   "execution_count": 41,
   "metadata": {},
   "outputs": [
    {
     "name": "stdout",
     "output_type": "stream",
     "text": [
      "Time to calculate the mean matrix:  0:00:00.016977\n",
      "[3.85969388 3.19834711 3.05882353 ... 2.         3.         3.        ]\n",
      "Done!\n"
     ]
    }
   ],
   "source": [
    "if __name__ == \"__main__\":\n",
    "    data = dataReader.DataReader('../../data/ml-100k/ua.base').readTXT()\n",
    "    utility_matrix = get_utility_matrix(data)\n",
    "\n",
    "    # Step 1: Calculate the mean matrix by kernel \n",
    "    start_time = get_time()\n",
    "    n_users = utility_matrix.shape[0]\n",
    "    n_items = utility_matrix.shape[1]\n",
    "    R = utility_matrix.ravel()\n",
    "\n",
    "    avg = np.zeros(n_items)\n",
    "    norm = np.zeros(n_items)\n",
    "    block_size = 256\n",
    "    grid_size = (n_items + block_size - 1) // block_size\n",
    "    kernel_get_average_and_norm[grid_size, block_size](R, n_items, n_users, avg, norm)\n",
    "    end_time = get_time()\n",
    "    print(\"Time to calculate the mean matrix: \", end_time - start_time)\n",
    "\n",
    "    print(avg)\n",
    "    # np.savetxt('../../out/avg_kernel.csv', avg, delimiter=',')\n",
    "    # np.savetxt('../../out/norm_kernel.csv', norm, delimiter=',')\n",
    "    print(\"Done!\")"
   ]
  },
  {
   "cell_type": "code",
   "execution_count": 40,
   "metadata": {},
   "outputs": [
    {
     "name": "stdout",
     "output_type": "stream",
     "text": [
      "[0 1 2 3 4]\n",
      "[1 1 2 3 4]\n"
     ]
    }
   ],
   "source": [
    "def change(a:np.array):\n",
    "    a[0]=1\n",
    "\n",
    "a =np.array([0,1,2,3,4])\n",
    "print(a)\n",
    "change(a)\n",
    "print(a)"
   ]
  }
 ],
 "metadata": {
  "kernelspec": {
   "display_name": "DSAIenv",
   "language": "python",
   "name": "python3"
  },
  "language_info": {
   "codemirror_mode": {
    "name": "ipython",
    "version": 3
   },
   "file_extension": ".py",
   "mimetype": "text/x-python",
   "name": "python",
   "nbconvert_exporter": "python",
   "pygments_lexer": "ipython3",
   "version": "3.12.3"
  }
 },
 "nbformat": 4,
 "nbformat_minor": 2
}
