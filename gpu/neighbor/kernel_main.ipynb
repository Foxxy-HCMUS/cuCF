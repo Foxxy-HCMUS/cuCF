{
 "cells": [
  {
   "cell_type": "code",
   "execution_count": 514,
   "metadata": {},
   "outputs": [],
   "source": [
    "from numba import cuda, jit\n",
    "import numpy as np\n",
    "import dataReader\n",
    "from similarityMatrix import *\n",
    "import math"
   ]
  },
  {
   "cell_type": "markdown",
   "metadata": {},
   "source": [
    "## __Các bước thực hiện song song hóa Neighbor-based Collaborative Filtering__"
   ]
  },
  {
   "cell_type": "markdown",
   "metadata": {},
   "source": [
    "+ __Bước 1__ Tính giá trị trung bình, giá trị Norm cho từng User\n",
    "+ __Bước 2__ Xây dựng Similarity Matrix\n",
    "+ __Bước 3__ Dự đoán các rating\n",
    "+ __Bước 4__ Tính điểm RMSE để xem xét mức chênh lệch giữa tập test và tập predict"
   ]
  },
  {
   "cell_type": "code",
   "execution_count": 515,
   "metadata": {},
   "outputs": [],
   "source": [
    "@cuda.jit\n",
    "def kernel_get_average_and_norm(R, cols, rows, avg, norm):\n",
    "    # row: n_users, col: n_items\n",
    "    bix = cuda.blockIdx.x\n",
    "    bdx = cuda.blockDim.x\n",
    "    tix = cuda.threadIdx.x\n",
    "\n",
    "    # thread ID -> item index\n",
    "    # 1 block -> 1 item\n",
    "    tid = bix * bdx + tix\n",
    "    if tid < cols:\n",
    "        countNonZero = 0\n",
    "        sum = 0\n",
    "        avgThread = 0\n",
    "        \n",
    "        # With per user: \n",
    "        for i in range(rows):\n",
    "            # Who is the user that rated this item\n",
    "\n",
    "            if R[i*cols + tid] > 0:\n",
    "                sum += R[i*cols + tid]\n",
    "                countNonZero += 1\n",
    "            \n",
    "        if countNonZero > 0:\n",
    "            avgThread = sum / countNonZero\n",
    "        else:\n",
    "            avgThread = 0\n",
    "        \n",
    "        if (tid < cols):\n",
    "            avg[tid] = avgThread\n",
    "\n",
    "        sum = 0\n",
    "        for i in range(rows):\n",
    "            if (R[i*cols + tid] > 0):\n",
    "                sum += (R[i*cols + tid] - avgThread)**2\n",
    "        \n",
    "        if (tid < cols):\n",
    "            norm[tid] = sum"
   ]
  },
  {
   "cell_type": "code",
   "execution_count": 516,
   "metadata": {},
   "outputs": [],
   "source": [
    "@cuda.jit\n",
    "def kernel_build_similarity_matrix_cosine_similarity(R, cols, rows, avg, norm, S):\n",
    "    # cols: n_users, rows: n_items\n",
    "    bix = cuda.blockIdx.x\n",
    "    bdx = cuda.blockDim.x\n",
    "    tix = cuda.threadIdx.x\n",
    "\n",
    "    # thread ID -> user index\n",
    "    tid = bix * bdx + tix\n",
    "    S[tid*cols + tid] = 1\n",
    "    if tid < cols:\n",
    "        for i in range(tid+1, cols):\n",
    "            sum = 0\n",
    "            for j in range(rows):\n",
    "                if (R[j*cols + tid] > 0 and R[j*cols + i] > 0):\n",
    "                    sum += (R[j*cols + tid] - avg[tid]) * (R[j*cols + i] - avg[i])\n",
    "            S[tid*cols + i] = sum / (math.sqrt(norm[tid]) * math.sqrt(norm[i]))\n",
    "            S[i*cols + tid] = S[tid*cols + i]"
   ]
  },
  {
   "cell_type": "code",
   "execution_count": 517,
   "metadata": {},
   "outputs": [],
   "source": [
    "@cuda.jit\n",
    "def kernel_predict(R, cols, rows, avg, norm, S, P):\n",
    "    # cols: n_users, rows: n_items\n",
    "    bix = cuda.blockIdx.x\n",
    "    bdx = cuda.blockDim.x\n",
    "    tix = cuda.threadIdx.x\n",
    "\n",
    "    # thread ID -> user index\n",
    "    # tid < cols\n",
    "    tid = bix * bdx + tix\n",
    "    if tid < cols:\n",
    "        for i in range(rows):\n",
    "            sum = 0\n",
    "            sum_similarity = 0\n",
    "            for j in range(cols):\n",
    "                if (R[i*cols + j] > 0):\n",
    "                    sum += S[tid*cols + j] * (R[i*cols + j] - avg[j])\n",
    "                    sum_similarity += abs(S[tid*cols + j])\n",
    "            if sum_similarity > 0:\n",
    "                P[i*cols + tid] = avg[tid] + sum / sum_similarity\n",
    "            else:\n",
    "                P[i*cols + tid] = 0"
   ]
  },
  {
   "cell_type": "code",
   "execution_count": 518,
   "metadata": {},
   "outputs": [],
   "source": [
    "@cuda.jit\n",
    "def kernel_predict_with_bias(R, cols, rows, avg, norm, S, P, B):\n",
    "    # cols: n_users, rows: n_items\n",
    "    bix = cuda.blockIdx.x\n",
    "    bdx = cuda.blockDim.x\n",
    "    tix = cuda.threadIdx.x\n",
    "\n",
    "    # thread ID -> user index\n",
    "    tid = bix * bdx + tix\n",
    "    if tid < cols:\n",
    "        for i in range(cols):\n",
    "            sum = 0\n",
    "            for j in range(cols):\n",
    "                if (R[tid*cols + j] > 0):\n",
    "                    sum += S[i*cols + j] * (R[tid*cols + j] - avg[j] - B[j])\n",
    "            P[tid*cols + i] = avg[i] + sum / norm[i]"
   ]
  },
  {
   "cell_type": "code",
   "execution_count": 519,
   "metadata": {},
   "outputs": [
    {
     "name": "stderr",
     "output_type": "stream",
     "text": [
      "c:\\Users\\PC\\anaconda3\\envs\\DSAIenv\\Lib\\site-packages\\numba\\cuda\\dispatcher.py:536: NumbaPerformanceWarning: \u001b[1mGrid size 4 will likely result in GPU under-utilization due to low occupancy.\u001b[0m\n",
      "  warn(NumbaPerformanceWarning(msg))\n"
     ]
    },
    {
     "name": "stdout",
     "output_type": "stream",
     "text": [
      "Time to calculate the mean matrix:  0:00:00.224190\n"
     ]
    },
    {
     "name": "stderr",
     "output_type": "stream",
     "text": [
      "c:\\Users\\PC\\anaconda3\\envs\\DSAIenv\\Lib\\site-packages\\numba\\cuda\\dispatcher.py:536: NumbaPerformanceWarning: \u001b[1mGrid size 4 will likely result in GPU under-utilization due to low occupancy.\u001b[0m\n",
      "  warn(NumbaPerformanceWarning(msg))\n",
      "c:\\Users\\PC\\anaconda3\\envs\\DSAIenv\\Lib\\site-packages\\numba\\cuda\\cudadrv\\devicearray.py:886: NumbaPerformanceWarning: \u001b[1mHost array used in CUDA kernel will incur copy overhead to/from device.\u001b[0m\n",
      "  warn(NumbaPerformanceWarning(msg))\n"
     ]
    },
    {
     "name": "stdout",
     "output_type": "stream",
     "text": [
      "Time to calculate the similarity matrix:  0:00:01.392297\n"
     ]
    },
    {
     "name": "stderr",
     "output_type": "stream",
     "text": [
      "c:\\Users\\PC\\anaconda3\\envs\\DSAIenv\\Lib\\site-packages\\numba\\cuda\\dispatcher.py:536: NumbaPerformanceWarning: \u001b[1mGrid size 7 will likely result in GPU under-utilization due to low occupancy.\u001b[0m\n",
      "  warn(NumbaPerformanceWarning(msg))\n",
      "c:\\Users\\PC\\anaconda3\\envs\\DSAIenv\\Lib\\site-packages\\numba\\cuda\\cudadrv\\devicearray.py:886: NumbaPerformanceWarning: \u001b[1mHost array used in CUDA kernel will incur copy overhead to/from device.\u001b[0m\n",
      "  warn(NumbaPerformanceWarning(msg))\n"
     ]
    },
    {
     "name": "stdout",
     "output_type": "stream",
     "text": [
      "Time to predict the utility matrix:  0:00:00.460222\n",
      "(1586126,)\n",
      "(943, 943)\n",
      "(943,)\n",
      "Done!\n"
     ]
    }
   ],
   "source": [
    "data = dataReader.DataReader('../../data/ml-100k/ua.base').readTXT()\n",
    "utility_matrix = get_utility_matrix(data)\n",
    "\n",
    "# Step 1: Calculate the mean matrix by kernel \n",
    "start_time = get_time()\n",
    "n_users = utility_matrix.shape[0]\n",
    "n_items = utility_matrix.shape[1]\n",
    "R = utility_matrix.flatten('F')\n",
    "\n",
    "avg = np.zeros(n_users)\n",
    "norm = np.zeros(n_users)\n",
    "\n",
    "d_avg = cuda.to_device(avg)\n",
    "d_norm = cuda.to_device(norm)\n",
    "d_R = cuda.to_device(R)\n",
    "\n",
    "block_size = 256\n",
    "grid_size = (n_users + block_size - 1) // block_size\n",
    "kernel_get_average_and_norm[grid_size, block_size](d_R, n_users, n_items, d_avg, d_norm)\n",
    "end_time = get_time()\n",
    "print(\"Time to calculate the mean matrix: \", end_time - start_time)\n",
    "avg = d_avg.copy_to_host()\n",
    "norm = d_norm.copy_to_host()\n",
    "\n",
    "# Step 2: Calculate the similarity matrix by kernel\n",
    "start_time = get_time()\n",
    "S = np.zeros(n_users*n_users)\n",
    "d_S = cuda.to_device(S)\n",
    "block_size = 256\n",
    "grid_size = (n_users + block_size - 1) // block_size\n",
    "kernel_build_similarity_matrix_cosine_similarity[grid_size, block_size](R, n_users, n_items, avg, norm, d_S)\n",
    "end_time = get_time()\n",
    "print(\"Time to calculate the similarity matrix: \", end_time - start_time)\n",
    "S = d_S.copy_to_host()\n",
    "\n",
    "# Step 3: Predict the utility matrix by kernel\n",
    "start_time = get_time()\n",
    "P = np.zeros(n_users*n_items)\n",
    "d_P = cuda.to_device(P)\n",
    "block_size = 256\n",
    "grid_size = (n_items + block_size - 1) // block_size\n",
    "kernel_predict[grid_size, block_size](R, n_users, n_items, avg, norm, d_S, d_P)\n",
    "end_time = get_time()\n",
    "\n",
    "print(\"Time to predict the utility matrix: \", end_time - start_time)\n",
    "P = d_P.copy_to_host()\n",
    "print(P.shape)\n",
    "\n",
    "\n",
    "similarity_matrix = S.reshape(n_users, n_users)\n",
    "print(similarity_matrix.shape)\n",
    "print(avg.shape)\n",
    "# print(S.shape)\n",
    "np.savetxt('out/avg_kernel.csv', avg, delimiter=',')\n",
    "np.savetxt('out/norm_kernel.csv', norm, delimiter=',')\n",
    "np.savetxt('out/similarity_kernel.csv', similarity_matrix, delimiter=',')\n",
    "np.savetxt('out/prediction_kernel.csv', P.reshape(n_users, n_items), delimiter=',')\n",
    "print(\"Done!\")"
   ]
  },
  {
   "cell_type": "code",
   "execution_count": 520,
   "metadata": {},
   "outputs": [],
   "source": [
    "predict = P.reshape(n_items, n_users)\n",
    "predict = predict.T"
   ]
  },
  {
   "cell_type": "code",
   "execution_count": 521,
   "metadata": {},
   "outputs": [
    {
     "data": {
      "text/plain": [
       "(943, 1682)"
      ]
     },
     "execution_count": 521,
     "metadata": {},
     "output_type": "execute_result"
    }
   ],
   "source": [
    "predict.shape"
   ]
  },
  {
   "cell_type": "code",
   "execution_count": 522,
   "metadata": {},
   "outputs": [],
   "source": [
    "def recommend(utility_matrix, predict, user):\n",
    "    # return the ratings of the user and the items that the user has not rated, don't need sort\n",
    "\n",
    "    # get the ratings of the user\n",
    "    ratings = utility_matrix[user]\n",
    "\n",
    "    # get the items that the user has not rated\n",
    "    not_rated_items = np.where(ratings == 0)[0]\n",
    "\n",
    "    # get the ratings of the items that the user has not rated\n",
    "    predict_ratings = predict[user]\n",
    "\n",
    "    # get the ratings of the items that the user has not rated\n",
    "    predict_ratings = predict_ratings[not_rated_items]\n",
    "\n",
    "    # get the index of the items that the user has not rated\n",
    "    items = np.arange(0, utility_matrix.shape[1])\n",
    "\n",
    "    # get the index of the items that the user has not rated\n",
    "    items = items[not_rated_items]\n",
    "    \n",
    "    return items, predict_ratings"
   ]
  },
  {
   "cell_type": "code",
   "execution_count": 523,
   "metadata": {},
   "outputs": [],
   "source": [
    "def recommend_all(utility_matrix, predict):\n",
    "    # return the matrix with 3 column: user, item, predict_rating  \n",
    "    result = []\n",
    "    for i in range(utility_matrix.shape[0]):\n",
    "        items, ratings = recommend(utility_matrix, predict, i)\n",
    "        for j in range(len(items)):\n",
    "            result.append([i, items[j], ratings[j]])\n",
    "    return np.array(result)"
   ]
  },
  {
   "cell_type": "code",
   "execution_count": 524,
   "metadata": {},
   "outputs": [],
   "source": [
    "test = dataReader.DataReader('../../data/ml-100k/ua.test').readTXT()"
   ]
  },
  {
   "cell_type": "code",
   "execution_count": 525,
   "metadata": {},
   "outputs": [],
   "source": [
    "result = recommend_all(utility_matrix, predict)"
   ]
  },
  {
   "cell_type": "code",
   "execution_count": 526,
   "metadata": {},
   "outputs": [
    {
     "data": {
      "text/plain": [
       "array([[   0.        ,   19.        ,    3.54311551],\n",
       "       [   0.        ,   32.        ,    3.54907158],\n",
       "       [   0.        ,   60.        ,    3.94647519],\n",
       "       ...,\n",
       "       [ 942.        , 1679.        ,    0.        ],\n",
       "       [ 942.        , 1680.        ,    3.4037687 ],\n",
       "       [ 942.        , 1681.        ,    3.01781223]])"
      ]
     },
     "execution_count": 526,
     "metadata": {},
     "output_type": "execute_result"
    }
   ],
   "source": [
    "result"
   ]
  },
  {
   "cell_type": "code",
   "execution_count": 527,
   "metadata": {},
   "outputs": [
    {
     "data": {
      "text/plain": [
       "array([[   0,   19,    4],\n",
       "       [   0,   32,    4],\n",
       "       [   0,   60,    4],\n",
       "       ...,\n",
       "       [ 942,  569,    1],\n",
       "       [ 942,  807,    4],\n",
       "       [ 942, 1066,    2]])"
      ]
     },
     "execution_count": 527,
     "metadata": {},
     "output_type": "execute_result"
    }
   ],
   "source": [
    "test"
   ]
  },
  {
   "cell_type": "code",
   "execution_count": 528,
   "metadata": {},
   "outputs": [
    {
     "data": {
      "text/plain": [
       "(1495556, 3)"
      ]
     },
     "execution_count": 528,
     "metadata": {},
     "output_type": "execute_result"
    }
   ],
   "source": [
    "result.shape"
   ]
  },
  {
   "cell_type": "code",
   "execution_count": 529,
   "metadata": {},
   "outputs": [],
   "source": [
    "# find score of the recommendation with test data by RMSE\n",
    "def RMSE(test, predict):\n",
    "    sum = 0\n",
    "    for i in range(test.shape[0]):\n",
    "        user = test[i][0]\n",
    "        item = test[i][1]\n",
    "        rating = test[i][2]\n",
    "\n",
    "        sum += (predict[user, item] - rating)**2\n",
    "    return math.sqrt(sum/test.shape[0])"
   ]
  },
  {
   "cell_type": "code",
   "execution_count": 530,
   "metadata": {},
   "outputs": [
    {
     "data": {
      "text/plain": [
       "0.9641134758958154"
      ]
     },
     "execution_count": 530,
     "metadata": {},
     "output_type": "execute_result"
    }
   ],
   "source": [
    "RMSE(test, predict)"
   ]
  }
 ],
 "metadata": {
  "kernelspec": {
   "display_name": "DSAIenv",
   "language": "python",
   "name": "python3"
  },
  "language_info": {
   "codemirror_mode": {
    "name": "ipython",
    "version": 3
   },
   "file_extension": ".py",
   "mimetype": "text/x-python",
   "name": "python",
   "nbconvert_exporter": "python",
   "pygments_lexer": "ipython3",
   "version": "3.12.3"
  }
 },
 "nbformat": 4,
 "nbformat_minor": 2
}
