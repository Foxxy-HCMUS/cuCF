{
 "cells": [
  {
   "cell_type": "code",
   "execution_count": 1,
   "metadata": {},
   "outputs": [],
   "source": [
    "from numba import cuda\n",
    "import numpy as np"
   ]
  },
  {
   "cell_type": "markdown",
   "metadata": {},
   "source": [
    "Grid > Block > Thread"
   ]
  },
  {
   "cell_type": "code",
   "execution_count": 2,
   "metadata": {},
   "outputs": [
    {
     "name": "stderr",
     "output_type": "stream",
     "text": [
      "c:\\Users\\PC\\anaconda3\\envs\\DSAIenv\\Lib\\site-packages\\numba\\cuda\\dispatcher.py:536: NumbaPerformanceWarning: \u001b[1mGrid size 1 will likely result in GPU under-utilization due to low occupancy.\u001b[0m\n",
      "  warn(NumbaPerformanceWarning(msg))\n"
     ]
    },
    {
     "name": "stdout",
     "output_type": "stream",
     "text": [
      "[ 2  3  4  5  6  7  8  9 10 11 12 13 14 15 16]\n"
     ]
    },
    {
     "name": "stderr",
     "output_type": "stream",
     "text": [
      "c:\\Users\\PC\\anaconda3\\envs\\DSAIenv\\Lib\\site-packages\\numba\\cuda\\cudadrv\\devicearray.py:886: NumbaPerformanceWarning: \u001b[1mHost array used in CUDA kernel will incur copy overhead to/from device.\u001b[0m\n",
      "  warn(NumbaPerformanceWarning(msg))\n"
     ]
    }
   ],
   "source": [
    "@cuda.jit\n",
    "def increment_by_one(array):\n",
    "\n",
    "    # ### Thread tx in block ty. Block width bw\n",
    "    # # Thread id in a 1D block\n",
    "    # tx = cuda.threadIdx.x\n",
    "\n",
    "    # # Block id in a 1D grid\n",
    "    # ty = cuda.blockIdx.x\n",
    "\n",
    "    # # Block width, i.e. number of threads per block\n",
    "    # bw = cuda.blockDim.x\n",
    "\n",
    "    # # Compute flattened index inside the array\n",
    "    # pos = tx + ty*bw\n",
    "\n",
    "    pos = cuda.grid(1)\n",
    "    if pos < array.size:\n",
    "        array[pos] += 1\n",
    "        # print(\"pos: \" + str(pos) + \" array[pos]: \" + str(array[pos]))\n",
    "        \n",
    "\n",
    "an_array = np.array([1,2,3,4,5,6,7,8,9,10,11,12,13,14,15])\n",
    "threadsperblock = 32\n",
    "blockspergrid = (an_array.size + (threadsperblock - 1)) // threadsperblock\n",
    "increment_by_one[blockspergrid, threadsperblock](an_array)\n",
    "print(an_array)"
   ]
  },
  {
   "cell_type": "code",
   "execution_count": 3,
   "metadata": {},
   "outputs": [
    {
     "name": "stdout",
     "output_type": "stream",
     "text": [
      "1.0\n"
     ]
    },
    {
     "name": "stderr",
     "output_type": "stream",
     "text": [
      "c:\\Users\\PC\\anaconda3\\envs\\DSAIenv\\Lib\\site-packages\\numba\\cuda\\dispatcher.py:536: NumbaPerformanceWarning: \u001b[1mGrid size 1 will likely result in GPU under-utilization due to low occupancy.\u001b[0m\n",
      "  warn(NumbaPerformanceWarning(msg))\n"
     ]
    }
   ],
   "source": [
    "from numba import cuda\n",
    "import numpy as np\n",
    "\n",
    "@cuda.jit\n",
    "def f(d_f, d_i):\n",
    "   f32_arr = cuda.shared.array(0, dtype=np.float32)\n",
    "   i32_arr = cuda.shared.array(0, dtype=np.int32)\n",
    "   f32_arr[0] = 3.14\n",
    "   d_f = f32_arr[0]\n",
    "   d_i = i32_arr[0]\n",
    "\n",
    "_f = np.float32(1)\n",
    "_i = np.int32(2)\n",
    "d_f = cuda.to_device(_f)\n",
    "d_i = cuda.to_device(_i)\n",
    "f[1, 1, 0, 4](d_f, d_i)\n",
    "\n",
    "_f = d_f.copy_to_host()\n",
    "cuda.synchronize()\n",
    "print(_f)\n",
    "\n",
    "# print(_i)"
   ]
  },
  {
   "cell_type": "code",
   "execution_count": 5,
   "metadata": {},
   "outputs": [
    {
     "name": "stderr",
     "output_type": "stream",
     "text": [
      "c:\\Users\\PC\\anaconda3\\envs\\DSAIenv\\Lib\\site-packages\\numba\\cuda\\dispatcher.py:536: NumbaPerformanceWarning: \u001b[1mGrid size 1 will likely result in GPU under-utilization due to low occupancy.\u001b[0m\n",
      "  warn(NumbaPerformanceWarning(msg))\n"
     ]
    }
   ],
   "source": [
    "from numba import cuda\n",
    "import numpy as np\n",
    "\n",
    "@cuda.jit\n",
    "def f():\n",
    "   f32_arr = cuda.shared.array(0, dtype=np.float32)\n",
    "   i32_arr = cuda.shared.array(0, dtype=np.int32)\n",
    "   f32_arr[0] = 3.14\n",
    "   print(f32_arr[0])\n",
    "   print(i32_arr[0])\n",
    "\n",
    "f[1, 1, 0, 4]()\n",
    "cuda.synchronize()"
   ]
  }
 ],
 "metadata": {
  "kernelspec": {
   "display_name": "DSAIenv",
   "language": "python",
   "name": "python3"
  },
  "language_info": {
   "codemirror_mode": {
    "name": "ipython",
    "version": 3
   },
   "file_extension": ".py",
   "mimetype": "text/x-python",
   "name": "python",
   "nbconvert_exporter": "python",
   "pygments_lexer": "ipython3",
   "version": "3.11.8"
  }
 },
 "nbformat": 4,
 "nbformat_minor": 2
}
