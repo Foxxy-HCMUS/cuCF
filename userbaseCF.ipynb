{
 "cells": [
  {
   "cell_type": "code",
   "execution_count": 1,
   "metadata": {},
   "outputs": [],
   "source": [
    "import numpy as np\n",
    "import pandas as pd\n",
    "from sklearn.metrics.pairwise import cosine_similarity\n",
    "from scipy import sparse"
   ]
  },
  {
   "cell_type": "code",
   "execution_count": 2,
   "metadata": {},
   "outputs": [],
   "source": [
    "class CollaborativeFiltering(object):\n",
    "    def __init__(self, data, k, dist_func = cosine_similarity, uuCF = 1):\n",
    "        self.uuCF = uuCF\n",
    "        # data: a 2D numpy array, each row is a triple (u, i, r)\n",
    "        self.data = data\n",
    "        # k: number of neighbors\n",
    "        self.k = k\n",
    "        # distance function\n",
    "        self.dist_func = dist_func\n",
    "        self.ybar_data = None\n",
    "\n",
    "        # number of users and items. Remember to add 1 since id starts from 0\n",
    "        self.n_users = int(np.max(self.data[:, 0])) + 1 \n",
    "        self.n_items = int(np.max(self.data[:, 1])) + 1\n",
    "\n",
    "    def normalize(self):\n",
    "        # Normalize data: subtract mean rating of each user\n",
    "        users = self.data[:, 0]\n",
    "        self.ybar_data = self.data.copy()\n",
    "        # mu: mean rating of each user\n",
    "        self.mu = np.zeros((self.n_users,))\n",
    "\n",
    "        for n in range(self.n_users):\n",
    "            # row indices of ratings made by user n\n",
    "            ids = np.where(users == n)[0].astype(np.int32)\n",
    "            # indices of all items rated by user n\n",
    "            item_ids = self.data[ids, 1]\n",
    "            # ratings made by user n\n",
    "            ratings = self.data[ids, 2]\n",
    "            # calculate mean rating of user n\n",
    "            m = np.mean(ratings)\n",
    "            # if m is nan (user n has not rated any item)\n",
    "            if np.isnan(m):\n",
    "                m = 0\n",
    "            # normalize the ratings of user n\n",
    "            self.ybar_data[ids, 2] = ratings - m\n",
    "            self.mu[n] = m\n",
    "        \n",
    "        self.Ybar = sparse.coo_matrix((self.ybar_data[:, 2],\n",
    "            (self.ybar_data[:, 1], self.ybar_data[:, 0])), (self.n_items, self.n_users))\n",
    "        self.Ybar = self.Ybar.tocsr()\n",
    "    \n",
    "    def similarity(self):\n",
    "        self.S = self.dist_func(self.Ybar.T, self.Ybar.T)\n",
    "\n",
    "    def refresh(self):\n",
    "        \"\"\"\n",
    "        Normalize data and calculate similarity matrix again (after\n",
    "        some few ratings added)\n",
    "        \"\"\"\n",
    "        self.normalize()\n",
    "        self.similarity() \n",
    "        \n",
    "    def fit(self):\n",
    "        self.refresh()\n",
    "\n",
    "    def __pred(self, u, i, normalized = 1):\n",
    "        \"\"\" \n",
    "        predict the rating of user u for item i (normalized)\n",
    "        if you need the un\n",
    "        \"\"\"\n",
    "        # Step 1: find all users who rated i\n",
    "        ids = np.where(self.data[:, 1] == i)[0].astype(np.int32)\n",
    "        # Step 2: \n",
    "        users_rated_i = (self.data[ids, 0]).astype(np.int32)\n",
    "        # Step 3: find similarity btw the current user and others \n",
    "        # who already rated i\n",
    "        sim = self.S[u, users_rated_i]\n",
    "        # Step 4: find the k most similarity users\n",
    "        a = np.argsort(sim)[-self.k:] \n",
    "        # and the corresponding similarity levels\n",
    "        nearest_s = sim[a]\n",
    "        # How did each of 'near' users rated item i\n",
    "        r = self.Ybar[i, users_rated_i[a]]\n",
    "        if normalized:\n",
    "            # add a small number, for instance, 1e-8, to avoid dividing by 0\n",
    "            return (r*nearest_s)[0]/(np.abs(nearest_s).sum() + 1e-8)\n",
    "\n",
    "        return (r*nearest_s)[0]/(np.abs(nearest_s).sum() + 1e-8) + self.mu[u]\n",
    "    \n",
    "    \n",
    "    def pred(self, u, i, normalized = 1):\n",
    "        \"\"\" \n",
    "        predict the rating of user u for item i (normalized)\n",
    "        if you need the un\n",
    "        \"\"\"\n",
    "        if self.uuCF: return self.__pred(u, i, normalized)\n",
    "        return self.__pred(i, u, normalized)\n",
    "    \n",
    "    def recommend(self, u, normalized = 1):\n",
    "        \"\"\"\n",
    "            Determine all items should be recommended for user u\n",
    "            The decision is made based on all i such that:\n",
    "            self.pred(u, i) > 0. Suppose we are considering items which\n",
    "            have not been rated by u yet.\n",
    "        \"\"\"\n",
    "        ids = np.where(self.data[:, 0] == u)[0]\n",
    "        items_rated_by_u = self.data[ids, 1].tolist()\n",
    "        recommended_items = []\n",
    "        for i in range(self.n_items):\n",
    "            if i not in items_rated_by_u:\n",
    "                rating = self.pred(u, i, normalized)\n",
    "                if rating > 0: \n",
    "                    recommended_items.append(i)\n",
    "        \n",
    "        return recommended_items\n",
    "    \n",
    "    def print_recommendation(self):\n",
    "        \"\"\"\n",
    "        print all items which should be recommended for each user \n",
    "        \"\"\"\n",
    "        print ('Recommendation: ')\n",
    "        for u in range(self.n_users):\n",
    "            recommended_items = self.recommend(u)\n",
    "            if self.uuCF:\n",
    "                print ('Recommend item(s):', recommended_items, 'to user', u)\n",
    "            else: \n",
    "                print ('Recommend item', u, 'to user(s) : ', recommended_items)"
   ]
  },
  {
   "cell_type": "code",
   "execution_count": 3,
   "metadata": {},
   "outputs": [
    {
     "name": "stdout",
     "output_type": "stream",
     "text": [
      "Recommendation: \n",
      "Recommend item(s): [2] to user 0\n",
      "Recommend item(s): [1] to user 1\n",
      "Recommend item(s): [] to user 2\n",
      "Recommend item(s): [4] to user 3\n",
      "Recommend item(s): [4] to user 4\n",
      "Recommend item(s): [0, 3, 4] to user 5\n",
      "Recommend item(s): [1] to user 6\n"
     ]
    }
   ],
   "source": [
    "r_cols = ['user_id', 'item_id', 'rating']\n",
    "ratings = pd.read_csv('data/ex.dat', sep = ' ', names = r_cols, encoding='latin-1')\n",
    "data = np.array(ratings)\n",
    "\n",
    "rs = CollaborativeFiltering(data, k = 2, uuCF = 1)\n",
    "rs.fit()\n",
    "\n",
    "rs.print_recommendation()"
   ]
  },
  {
   "cell_type": "code",
   "execution_count": 4,
   "metadata": {},
   "outputs": [],
   "source": [
    "rating = np.array(ratings)\n",
    "users = rating[:, 0]\n",
    "ids = np.where(users == 2)"
   ]
  },
  {
   "cell_type": "markdown",
   "metadata": {},
   "source": [
    "---"
   ]
  },
  {
   "cell_type": "code",
   "execution_count": 6,
   "metadata": {},
   "outputs": [],
   "source": [
    "r_cols = ['user_id', 'movie_id', 'rating', 'unix_timestamp']\n",
    "\n",
    "ratings_base = pd.read_csv('data/ml-100k/ub.base', sep='\\t', names=r_cols)\n",
    "ratings_test = pd.read_csv('data/ml-100k/ub.test', sep='\\t', names=r_cols)\n",
    "\n",
    "rate_train = np.array(ratings_base)\n",
    "rate_test = np.array(ratings_test)\n",
    "\n",
    "# indices start from 0\n",
    "rate_train[:, :2] -= 1\n",
    "rate_test[:, :2] -= 1"
   ]
  },
  {
   "cell_type": "code",
   "execution_count": 7,
   "metadata": {},
   "outputs": [
    {
     "name": "stdout",
     "output_type": "stream",
     "text": [
      "User-user CF, RMSE = 0.9951816576105769\n",
      "CPU times: user 2.63 s, sys: 38.9 ms, total: 2.67 s\n",
      "Wall time: 2.66 s\n"
     ]
    }
   ],
   "source": [
    "%%time\n",
    "rs = CollaborativeFiltering(rate_train, k = 30, uuCF = 1)\n",
    "rs.fit()\n",
    "\n",
    "n_tests = rate_test.shape[0]\n",
    "SE = 0 # squared error\n",
    "for n in range(n_tests):\n",
    "    pred = rs.pred(rate_test[n, 0], rate_test[n, 1], normalized = 0)\n",
    "    SE += (pred - rate_test[n, 2])**2 \n",
    "\n",
    "RMSE = np.sqrt(SE/n_tests)\n",
    "print('User-user CF, RMSE =', RMSE)"
   ]
  },
  {
   "cell_type": "code",
   "execution_count": 8,
   "metadata": {},
   "outputs": [],
   "source": [
    "# rs = CollaborativeFiltering(rate_train, k = 30, uuCF = 0)\n",
    "# rs.fit()\n",
    "\n",
    "# n_tests = rate_test.shape[0]\n",
    "# SE = 0 # squared error\n",
    "# for n in range(n_tests):\n",
    "#     pred = rs.pred(rate_test[n, 0], rate_test[n, 1], normalized = 0)\n",
    "#     SE += (pred - rate_test[n, 2])**2 \n",
    "\n",
    "# RMSE = np.sqrt(SE/n_tests)\n",
    "# print('Item-item CF, RMSE =', RMSE)"
   ]
  }
 ],
 "metadata": {
  "kernelspec": {
   "display_name": "DSAIenv",
   "language": "python",
   "name": "python3"
  },
  "language_info": {
   "codemirror_mode": {
    "name": "ipython",
    "version": 3
   },
   "file_extension": ".py",
   "mimetype": "text/x-python",
   "name": "python",
   "nbconvert_exporter": "python",
   "pygments_lexer": "ipython3",
   "version": "3.9.18"
  }
 },
 "nbformat": 4,
 "nbformat_minor": 2
}
